{
 "cells": [
  {
   "cell_type": "markdown",
   "metadata": {},
   "source": [
    "\n",
    "<a href='https://www.darshan.ac.in/'> <img src='https://www.darshan.ac.in/Content/media/DU_Logo.svg' width=\"250\" height=\"300\"/></a>\n",
    "<pre>\n",
    "<center><b><h1>Python Programming - 2301CS404</b></center>\n",
    "    <center><b><h1>24010101679 Shreyansh Ranpariya 28-11-24</b></center>    \n",
    "<center><b><h1>Lab - 2</b></center>    \n",
    "<pre>"
   ]
  },
  {
   "cell_type": "markdown",
   "metadata": {},
   "source": [
    "# if..else.."
   ]
  },
  {
   "cell_type": "markdown",
   "metadata": {},
   "source": [
    "### 01) WAP to check whether the given number is positive or negative."
   ]
  },
  {
   "cell_type": "code",
   "execution_count": 7,
   "metadata": {},
   "outputs": [
    {
     "name": "stdout",
     "output_type": "stream",
     "text": [
      "Enter Num 10\n"
     ]
    },
    {
     "name": "stdout",
     "output_type": "stream",
     "text": [
      "Postive\n"
     ]
    }
   ],
   "source": [
    "n=int(input(\"Enter Num\"))\n",
    "if(n>0):\n",
    "      print(\"Postive\")\n",
    "else:\n",
    "      print(\"Negative\")\n",
    "      \n",
    "          "
   ]
  },
  {
   "cell_type": "markdown",
   "metadata": {},
   "source": [
    "### 02) WAP to check whether the given number is odd or even."
   ]
  },
  {
   "cell_type": "code",
   "execution_count": 1,
   "metadata": {},
   "outputs": [
    {
     "name": "stdout",
     "output_type": "stream",
     "text": [
      "Even\n"
     ]
    }
   ],
   "source": [
    "n=int(input(\"Enter Num\"))\n",
    "if(n%2==0):\n",
    "      print(\"Even\")\n",
    "else:\n",
    "      print(\"Odd\")"
   ]
  },
  {
   "cell_type": "markdown",
   "metadata": {},
   "source": [
    "### 03) WAP to find out largest number from given two numbers using simple if and ternary operator."
   ]
  },
  {
   "cell_type": "code",
   "execution_count": 19,
   "metadata": {},
   "outputs": [
    {
     "name": "stdout",
     "output_type": "stream",
     "text": [
      "Enter Num 1 10\n",
      "Enter Num 2 2\n"
     ]
    },
    {
     "name": "stdout",
     "output_type": "stream",
     "text": [
      "num1 is greater\n"
     ]
    }
   ],
   "source": [
    "n1=int(input(\"Enter Num 1\"))\n",
    "n2=int(input(\"Enter Num 2\"))\n",
    "print(\"num1 is greater\" if n1>n2 else \"num2 is greater\")"
   ]
  },
  {
   "cell_type": "markdown",
   "metadata": {},
   "source": [
    "### 04) WAP to find out largest number from given three numbers."
   ]
  },
  {
   "cell_type": "code",
   "execution_count": 23,
   "metadata": {},
   "outputs": [
    {
     "name": "stdout",
     "output_type": "stream",
     "text": [
      "Enter Num 1 10\n",
      "Enter Num 2 5\n",
      "Enter Num 3 2\n"
     ]
    },
    {
     "name": "stdout",
     "output_type": "stream",
     "text": [
      "10 Greater\n"
     ]
    }
   ],
   "source": [
    "n1=int(input(\"Enter Num 1\"))\n",
    "n2=int(input(\"Enter Num 2\"))\n",
    "n3=int(input(\"Enter Num 3\"))\n",
    "if(n1>n2):\n",
    "    if n1>n3:\n",
    "        print(n1,\"Greater\")\n",
    "    else:\n",
    "        print(n3,\"Greater\")\n",
    "else:\n",
    "    if n2>n3:\n",
    "        print(n2,\"Greater\")\n",
    "    else:\n",
    "        print(n3,\"Greater\")\n",
    "        \n",
    "    \n"
   ]
  },
  {
   "cell_type": "markdown",
   "metadata": {},
   "source": [
    "### 05) WAP to check whether the given year is leap year or not.\n",
    "[If a year can be divisible by 4 but not divisible by 100 then it is leap year but if it is divisible by 400 then it is leap year]"
   ]
  },
  {
   "cell_type": "code",
   "execution_count": 25,
   "metadata": {},
   "outputs": [
    {
     "name": "stdout",
     "output_type": "stream",
     "text": [
      "Enter Year 2024\n"
     ]
    },
    {
     "name": "stdout",
     "output_type": "stream",
     "text": [
      "Leap\n"
     ]
    }
   ],
   "source": [
    "n=int(input(\"Enter Year\"))\n",
    "\n",
    "if((n%4==0 and n%100!=0) or n%400==0):\n",
    "    print(\"Leap\")\n",
    "else:\n",
    "    print(\"Not Leap\")"
   ]
  },
  {
   "cell_type": "markdown",
   "metadata": {},
   "source": [
    "### 06) WAP in python to display the name of the day according to the number given by the user."
   ]
  },
  {
   "cell_type": "code",
   "execution_count": 29,
   "metadata": {},
   "outputs": [
    {
     "name": "stdout",
     "output_type": "stream",
     "text": [
      "Enter Num 2\n"
     ]
    },
    {
     "name": "stdout",
     "output_type": "stream",
     "text": [
      "Tusday\n"
     ]
    }
   ],
   "source": [
    "n=int(input(\"Enter Num\"))\n",
    "\n",
    "match n:\n",
    "    case 1:\n",
    "        print(\"Monday\")\n",
    "    case 2:\n",
    "        print(\"Tuesday\")\n",
    "    case 3:\n",
    "        print(\"Wednesday\")\n",
    "    case 4:\n",
    "        print(\"Thursday\")\n",
    "    case 5:\n",
    "        print(\"Friday\")\n",
    "    case 6:\n",
    "        print(\"Saturday\")\n",
    "    case 7:\n",
    "        print(\"Sunday\")\n",
    "    case _:\n",
    "        print(\"invalid\")"
   ]
  },
  {
   "cell_type": "markdown",
   "metadata": {},
   "source": [
    "### 07) WAP to implement simple calculator which performs (add,sub,mul,div) of two no. based on user input."
   ]
  },
  {
   "cell_type": "code",
   "execution_count": 33,
   "metadata": {},
   "outputs": [
    {
     "name": "stdout",
     "output_type": "stream",
     "text": [
      "Enter Num 1 10\n",
      "Enter Oprater +\n",
      "Enter Num 2 10\n"
     ]
    },
    {
     "name": "stdout",
     "output_type": "stream",
     "text": [
      "Addition 20\n"
     ]
    }
   ],
   "source": [
    "n1=int(input(\"Enter Num 1\"))\n",
    "opr=input(\"Enter Oprater\")\n",
    "n2=int(input(\"Enter Num 2\"))\n",
    "\n",
    "match opr:\n",
    "    case \"+\":\n",
    "        print(\"Addition\",n1+n2)\n",
    "    case \"-\":\n",
    "        print(\"Subtraction\",n1-n2)\n",
    "    case \"*\":\n",
    "        print(\"Multiplcation\",n1*n2)\n",
    "    case \"/\":\n",
    "         print(\"Division\",n1/n2)\n",
    "    case _:\n",
    "        print(\"invalid\")\n",
    "\n"
   ]
  },
  {
   "cell_type": "markdown",
   "metadata": {},
   "source": [
    "### 08) WAP to read marks of five subjects. Calculate percentage and print class accordingly. \n",
    "Fail below 35 </br>\n",
    "Pass Class between 35 to 45 </br>\n",
    "Second Class</br>\n",
    "between 45 to 60</br>\n",
    "First Class between 60 to 70</br> \n",
    "Distinction if more than 70"
   ]
  },
  {
   "cell_type": "code",
   "execution_count": 59,
   "metadata": {},
   "outputs": [
    {
     "name": "stdout",
     "output_type": "stream",
     "text": [
      "Enter Marks for Subject :1 65\n",
      "Enter Marks for Subject :2 65\n",
      "Enter Marks for Subject :3 65\n",
      "Enter Marks for Subject :4 655\n",
      "Enter Marks for Subject :5 54\n"
     ]
    },
    {
     "name": "stdout",
     "output_type": "stream",
     "text": [
      "percantage:  903.9999999999999\n",
      "Invalid Mark\n"
     ]
    }
   ],
   "source": [
    "arr = []\n",
    "\n",
    "for i in range(0,5):\n",
    "    a=int(input(f\"Enter Marks for Subject :{i+1}\"))\n",
    "    if(a<0 and a>=100):\n",
    "        arr.append(a)\n",
    "    else:\n",
    "        \n",
    "    \n",
    "        \n",
    "    \n",
    "\n",
    "total=int(sum(arr))\n",
    "\n",
    "per=total/5\n",
    "\n",
    "print(\"percantage: \",per)\n",
    "\n",
    "if per<35 and per>0:\n",
    "    print(\"Fail\")\n",
    "elif per>=35 and per<45:\n",
    "    print(\"Pass\")\n",
    "elif per>=45 and per<60:\n",
    "    print(\"Second Class\")\n",
    "elif per>=60 and per<70:\n",
    "    print(\"First Class\")\n",
    "elif per>=70 and per<=100:\n",
    "    print(\"Distinction\")\n",
    "else:\n",
    "    print(\"Invalid Mark\")\n",
    "\n",
    "\n",
    "\n"
   ]
  },
  {
   "cell_type": "markdown",
   "metadata": {},
   "source": [
    "### 09) Three sides of a triangle are entered through the keyboard, WAP to check whether the triangle is isosceles, equilateral, scalene or right-angled triangle."
   ]
  },
  {
   "cell_type": "code",
   "execution_count": 63,
   "metadata": {},
   "outputs": [
    {
     "name": "stdout",
     "output_type": "stream",
     "text": [
      "Enter  first side:  10\n",
      "Enter second side:  90\n",
      "Enter third side:  10\n"
     ]
    },
    {
     "name": "stdout",
     "output_type": "stream",
     "text": [
      "The triangle is: Not a valid triangle\n"
     ]
    }
   ],
   "source": [
    "\n",
    "def check_triangle_type(a,b,c):\n",
    "    sides = sorted([a,b,c])\n",
    "    x,y,z= sides\n",
    "    if x + y <= z:\n",
    "        return \"Not a valid triangle\"\n",
    "\n",
    "    if a == b == c:\n",
    "        return \"Equilateral triangle\"\n",
    "    elif a == b or b == c or a == c:\n",
    "        return \"Isosceles triangle\"\n",
    "    elif x*2 + y*2 == z*2:\n",
    "        return \"Right-angle triangle\"\n",
    "    else:\n",
    "        return \"Scalene triangle\"\n",
    "\n",
    "\n",
    "a = float(input(\"Enter  first side: \"))\n",
    "b = float(input(\"Enter second side: \"))\n",
    "c = float(input(\"Enter third side: \"))\n",
    "result = check_triangle_type(a, b, c)\n",
    "print(f\"The triangle is: {result}\")"
   ]
  },
  {
   "cell_type": "code",
   "execution_count": null,
   "metadata": {},
   "outputs": [],
   "source": []
  },
  {
   "cell_type": "markdown",
   "metadata": {},
   "source": [
    "### 10) WAP to find the second largest number among three user input numbers."
   ]
  },
  {
   "cell_type": "code",
   "execution_count": 70,
   "metadata": {},
   "outputs": [
    {
     "name": "stdout",
     "output_type": "stream",
     "text": [
      " 1\n",
      " 2\n",
      " 7\n"
     ]
    },
    {
     "name": "stdout",
     "output_type": "stream",
     "text": [
      "2\n"
     ]
    }
   ],
   "source": [
    "array = []\n",
    "a = int(input(\"enter first\"))\n",
    "array.append(a)\n",
    "b = int(input(\"enter second\"))\n",
    "array.append(b)\n",
    "c = int(input(\"enter third\"))\n",
    "array.append(c)\n",
    "\n",
    "array.sort()\n",
    "\n",
    "print(\"second largest is: \"array[1])"
   ]
  },
  {
   "cell_type": "markdown",
   "metadata": {},
   "source": [
    "### 11) WAP to calculate electricity bill based on following criteria. Which takes the unit from the user.\n",
    "a. First 1 to 50 units – Rs. 2.60/unit</br>\n",
    "b. Next 50 to 100 units – Rs. 3.25/unit</br>\n",
    "c. Next 100 to 200 units – Rs. 5.26/unit</br>\n",
    "d. above 200 units – Rs. 8.45/unit"
   ]
  },
  {
   "cell_type": "code",
   "execution_count": null,
   "metadata": {},
   "outputs": [],
   "source": [
    "\n",
    "def calculate_electricity_bill(units):\n",
    "    bill_amount = 0.0\n",
    "    if units <= 50:\n",
    "        bill_amount = units * 2.60\n",
    "    elif units <= 100:\n",
    "        bill_amount = (50 * 2.60) + ((units - 50) * 3.25)\n",
    "    elif units <= 200:\n",
    "        bill_amount = (50 * 2.60) + (50 * 3.25) + ((units - 100) * 5.26)\n",
    "    else:\n",
    "        bill_amount = (50 * 2.60) + (50 * 3.25) + (100 * 5.26) + ((units - 200) * 8.45)\n",
    "    return bill_amount\n",
    "\n",
    "units_consumed = float(input(\"Enter the number of units consumed: \"))\n",
    "if units_consumed < 0:\n",
    "    print(\"Units consumed cannot be negative. Please enter a valid number.\")\n",
    "else:\n",
    "    bill = calculate_electricity_bill(units_consumed)\n",
    "    print(f\"The total electricity bill for {units_consumed} units is: Rs. {bill:.2f}\")"
   ]
  }
 ],
 "metadata": {
  "kernelspec": {
   "display_name": "Python 3",
   "language": "python",
   "name": "python3"
  },
  "language_info": {
   "codemirror_mode": {
    "name": "ipython",
    "version": 3
   },
   "file_extension": ".py",
   "mimetype": "text/x-python",
   "name": "python",
   "nbconvert_exporter": "python",
   "pygments_lexer": "ipython3",
   "version": "3.13.0"
  }
 },
 "nbformat": 4,
 "nbformat_minor": 4
}
